{
 "cells": [
  {
   "cell_type": "code",
   "execution_count": 94,
   "metadata": {},
   "outputs": [
    {
     "data": {
      "text/plain": [
       "['kotek.vojtech+1@gmail.com', 'test']"
      ]
     },
     "execution_count": 94,
     "metadata": {},
     "output_type": "execute_result"
    }
   ],
   "source": [
    "# Lunch Menu Scraper\n",
    "\n",
    "from urllib import request\n",
    "from bs4 import BeautifulSoup as bs\n",
    "from datetime import datetime\n",
    "import requests\n",
    "import json\n",
    "\n",
    "import settings as SETTINGS\n",
    "\n",
    "class lunchScraper(object):\n",
    "    \n",
    "    def __init__(self):\n",
    "        self.data = {\n",
    "            \"title\": \"Daily Menu for {}\".format(datetime.now().strftime(\"%A, %d-%b\")),\n",
    "            \"body\": {\n",
    "                \"menus\": []\n",
    "            }\n",
    "        }\n",
    "        \n",
    "    def add_menu(self, name, url, selector, n=0):\n",
    "        try:\n",
    "            with request.urlopen(url) as response:\n",
    "                html = response.read()\n",
    "                soup = bs(html, 'lxml')\n",
    "                selected = soup.select(selector)\n",
    "                if n == -1:\n",
    "                    text = \"\\n\".join([item.get_text() for item in selected])\n",
    "                else:\n",
    "                    text = selected[n].get_text()\n",
    "                text = [t for t in text.split(\"\\n\") if len(t) > 0]\n",
    "            self.data['body']['menus'].append({'name':name,'url':url,'menu':text})\n",
    "        except Exception as e:\n",
    "            print(\"Couldn't find menu for {}. Error: {}\".format(name, e))\n",
    "\n",
    "    def send_message(self):\n",
    "        auth = (\"api\", SETTINGS.MAIL_API_KEY)\n",
    "        data = {\n",
    "            \"from\": SETTINGS.FROM,\n",
    "            \"to\": SETTINGS.TO,\n",
    "            \"subject\": self.data['title'],\n",
    "            \"h:X-Mailgun-Variables\": json.dumps(self.data),\n",
    "            \"t:text\": \"yes\",\n",
    "            \"template\": \"daily-menu\",\n",
    "        }\n",
    "        r = requests.post(SETTINGS.MAIL_URL, auth=auth, data=data)\n",
    "        return r\n",
    "    \n",
    "    def get_recipients(self):\n",
    "        with open(SETTINGS.SUBSCRIBERS, 'r') as f:\n",
    "            subscribers = json.load(f)\n",
    "            recipients = []\n",
    "            for subscriber in subscribers:\n",
    "                if subscriber['verified']:\n",
    "                    recipients.append(subscriber['email'])\n",
    "        return recipients\n",
    "    \n",
    "def your_restaurants(temp):\n",
    "\n",
    "#     # Pastva\n",
    "#     name = \"Pastva\"\n",
    "#     url = \"https://www.pastva-restaurant.cz/nase-menu/\"\n",
    "#     selector = \"#ffe_widget-2 .eff-panel-body\"\n",
    "#     temp.add_menu(name, url, selector)\n",
    "\n",
    "#     # Sodexo\n",
    "#     name = \"Sodexo, Riverview\"\n",
    "#     url = \"http://riverview.extranet.prod.dator3.cz/en/menu-for-the-week/\"\n",
    "#     weekday = 4 - datetime.today().weekday()\n",
    "#     weekday = weekday if weekday > 0 else 0\n",
    "#     tag = \"#menu-{} .popisJidla\".format(str(weekday))\n",
    "#     selector = tag\n",
    "#     temp.add_menu(name, url, selector, n=-1)\n",
    "\n",
    "#     # FIVE - Weekly\n",
    "#     name = \"Dave B, Five (Week)\"\n",
    "#     url = \"https://www.daveb.cz/cs/denni-nabidka\"\n",
    "#     selector = \".article .row div\"\n",
    "#     temp.add_menu(name, url, selector, n=1)\n",
    "\n",
    "#     # FIVE - Today\n",
    "#     name = \"Dave B, Five (Today)\"\n",
    "#     url = \"https://www.daveb.cz/cs/denni-nabidka\"\n",
    "#     selector = \".article .row div\"\n",
    "#     weekday = 3 + datetime.today().weekday()\n",
    "#     weekday = weekday if int(weekday) <= 7 else 3\n",
    "#     temp.add_menu(name, url, selector, n=weekday)\n",
    "    \n",
    "    # Potrefena Husa - Na Verandach\n",
    "    name = \"Potrefena Husa - Na Verandach\"\n",
    "    url = \"https://www.phnaverandach.cz/\"\n",
    "    selector = \".listek-out .listek #table-1 .food-title\"\n",
    "    temp.add_menu(name, url, selector, n=-1)\n",
    "\n",
    "    # U Kroka\n",
    "#     name = \"U Kroka\"\n",
    "#     url = \"https://www.ukroka.cz/menus-1\"\n",
    "#     selector = \".menuApp\"\n",
    "#     temp.add_menu(name, url, selector)\n",
    "    \n",
    "\n",
    "# if __name__ == \"__main__\":\n",
    "#     x = lunchScraper()\n",
    "#     your_restaurants(x)\n",
    "#     x.send_message()\n",
    "\n",
    "x = lunchScraper()\n",
    "your_restaurants(x)\n",
    "x.get_recipients()\n",
    "# x.send_message()"
   ]
  },
  {
   "cell_type": "code",
   "execution_count": 91,
   "metadata": {},
   "outputs": [
    {
     "name": "stdout",
     "output_type": "stream",
     "text": [
      "/home/vojtech/web.kotek.co/myapp/subscribers.json\n"
     ]
    }
   ],
   "source": [
    "import settings, importlib\n",
    "importlib.reload(settings)\n",
    "from pprint import pprint as pp\n",
    "\n",
    "print(settings.SUBSCRIBERS)"
   ]
  },
  {
   "cell_type": "code",
   "execution_count": 60,
   "metadata": {},
   "outputs": [
    {
     "data": {
      "text/plain": [
       "['ŠPENÁTOVÁ POLÉVKA s restovanou slaninou (1,3,7)',\n",
       " 'SALÁT NICOISE mix trhaných salátů s pečenými brambůrkami grenaile, fazolovými lusky, vejcem, olivami, tuňákem v olivovém oleji a dresinkem z hrubozrné hořčice (3,4,7)',\n",
       " 'KUŘECÍ ŘÍZEK v Panko strouhance s jemnou bramborovou kaší a salátkem z kořenové zeleniny (1,3,7,9)',\n",
       " 'PLNĚNÁ TORTILLA s vepřovým masem, kukuřicí, pikatní salsou a malým salátkem z čerstvé zeleniny (1,3)',\n",
       " 'ŠPANĚLSKÝ PTÁČEK V ROZLETU se slaninou, nakládanou okurkou, vejcem a paprikovou klobásou, jasmínová rýže (1a,3,10)',\n",
       " 'VEPŘO- KNEDLO-ZELO šťavnatá vepřová kolínka s kysaným zelím a naším žemlovým knedlíkem (1a,3,7,10)']"
      ]
     },
     "execution_count": 60,
     "metadata": {},
     "output_type": "execute_result"
    }
   ],
   "source": [
    "headers = {'User-Agent': 'Mozilla/5.0 (Macintosh; Intel Mac OS X 10_10_1) AppleWebKit/537.36 (KHTML, like Gecko) Chrome/39.0.2171.95 Safari/537.36'}\n",
    "\n",
    "def add_menu(name, url, selector, n=0):\n",
    "    with requests.get(url, headers=headers) as response:\n",
    "        html = response.content\n",
    "        soup = bs(html, 'lxml')\n",
    "        selected = soup.select(selector)\n",
    "        if n == -1:\n",
    "            text = \"\\n\".join([item.get_text() for item in selected])\n",
    "        else:\n",
    "            text = selected[n].get_text()\n",
    "        text = [t for t in text.split(\"\\n\") if len(t) > 0]\n",
    "    return text\n",
    "        \n",
    "# name = \"U Kroka\"\n",
    "# url = \"https://www.ukroka.cz/menus-1\"\n",
    "# selector = \".mainDiv .MenusApp\"\n",
    "# z = add_menu(name, url, selector)\n",
    "\n",
    "name = \"Potrefena Husa - Na Verandach\"\n",
    "url = \"https://www.phnaverandach.cz/\"\n",
    "selector = \".listek-out .listek #table-1 .food-title\"\n",
    "z = add_menu(name, url, selector, n=-1)\n",
    "z"
   ]
  },
  {
   "cell_type": "code",
   "execution_count": 58,
   "metadata": {
    "scrolled": false
   },
   "outputs": [
    {
     "ename": "AttributeError",
     "evalue": "'list' object has no attribute 'select'",
     "output_type": "error",
     "traceback": [
      "\u001b[0;31m---------------------------------------------------------------------------\u001b[0m",
      "\u001b[0;31mAttributeError\u001b[0m                            Traceback (most recent call last)",
      "\u001b[0;32m<ipython-input-58-919f13f240d0>\u001b[0m in \u001b[0;36m<module>\u001b[0;34m()\u001b[0m\n\u001b[1;32m      1\u001b[0m \u001b[0mselector\u001b[0m \u001b[0;34m=\u001b[0m \u001b[0;34m\".listek-out .listek #table-1\"\u001b[0m\u001b[0;34m\u001b[0m\u001b[0m\n\u001b[0;32m----> 2\u001b[0;31m \u001b[0mz\u001b[0m\u001b[0;34m.\u001b[0m\u001b[0mselect\u001b[0m\u001b[0;34m(\u001b[0m\u001b[0mselector\u001b[0m\u001b[0;34m)\u001b[0m\u001b[0;34m[\u001b[0m\u001b[0;36m0\u001b[0m\u001b[0;34m]\u001b[0m\u001b[0;34m.\u001b[0m\u001b[0mget_text\u001b[0m\u001b[0;34m(\u001b[0m\u001b[0;34m)\u001b[0m\u001b[0;34m\u001b[0m\u001b[0m\n\u001b[0m",
      "\u001b[0;31mAttributeError\u001b[0m: 'list' object has no attribute 'select'"
     ]
    }
   ],
   "source": [
    "selector = \".listek-out .listek #table-1\"\n",
    "z.select(selector)[0].get_text()"
   ]
  },
  {
   "cell_type": "code",
   "execution_count": null,
   "metadata": {
    "collapsed": true
   },
   "outputs": [],
   "source": []
  },
  {
   "cell_type": "code",
   "execution_count": null,
   "metadata": {
    "collapsed": true
   },
   "outputs": [],
   "source": []
  }
 ],
 "metadata": {
  "kernelspec": {
   "display_name": "ipython-venv",
   "language": "python",
   "name": "ipython-venv"
  },
  "language_info": {
   "codemirror_mode": {
    "name": "ipython",
    "version": 3
   },
   "file_extension": ".py",
   "mimetype": "text/x-python",
   "name": "python",
   "nbconvert_exporter": "python",
   "pygments_lexer": "ipython3",
   "version": "3.5.2"
  }
 },
 "nbformat": 4,
 "nbformat_minor": 2
}
