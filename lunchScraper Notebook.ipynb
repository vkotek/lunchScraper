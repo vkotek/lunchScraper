{
 "cells": [
  {
   "cell_type": "code",
   "execution_count": 245,
   "metadata": {},
   "outputs": [
    {
     "name": "stdout",
     "output_type": "stream",
     "text": [
      "[2019-06-11 00:44:10.552218] Execution completed with <Response [200]>.\n"
     ]
    }
   ],
   "source": [
    "# Lunch Menu Scraper\n",
    "\n",
    "from urllib import request\n",
    "from bs4 import BeautifulSoup as bs\n",
    "from datetime import datetime\n",
    "import requests\n",
    "import json\n",
    "import logging\n",
    "\n",
    "import settings as SETTINGS\n",
    "\n",
    "class lunchScraper(object):\n",
    "\n",
    "    def __init__(self):\n",
    "        self.data = {\n",
    "            \"title\": \"Daily Menu for {}\".format(datetime.now().strftime(\"%A, %d-%b\")),\n",
    "            \"body\": {\n",
    "                \"menus\": []\n",
    "            }\n",
    "        }\n",
    "\n",
    "    def add_menu(self, id, name, url, selector, n=0):\n",
    "        try:\n",
    "            with request.urlopen(url) as response:\n",
    "                html = response.read()\n",
    "                soup = bs(html, 'lxml')\n",
    "                selected = soup.select(selector)\n",
    "                if n == -1:\n",
    "                    text = \"\\n\".join([item.get_text() for item in selected])\n",
    "                elif isinstance(n, range):\n",
    "                    text = []\n",
    "                    for i in n:\n",
    "                        text.append( clean(selected[i].get_text()) )\n",
    "                    text = \"\\n\".join(text)\n",
    "                else:\n",
    "                    text = selected[n].get_text()\n",
    "                text = [t for t in text.split(\"\\n\") if len(t) > 0]\n",
    "            self.data['body']['menus'].append({'id':id,'name':name,'url':url,'menu':text})\n",
    "        except Exception as e:\n",
    "            print(\"Couldn't find menu for {}. Error: {}\".format(name, e))\n",
    "\n",
    "    def send_messages(self):\n",
    "        \n",
    "        recipients = self.get_recipients()\n",
    "        \n",
    "        auth = (\"api\", SETTINGS.MAIL_API_KEY)\n",
    "        results = {}\n",
    "        \n",
    "        for recipient in recipients:\n",
    "            menus = [r for r in self.data['body']['menus'] if str(r['id']) in recipient['preferences']]\n",
    "            data = { 'body': { \n",
    "                'menus': menus,\n",
    "                'token': recipient['token'],\n",
    "            }}\n",
    "            config = {\n",
    "                \"from\": SETTINGS.FROM,\n",
    "                \"to\": recipient['email'],\n",
    "                \"subject\": self.data['title'],\n",
    "                \"h:X-Mailgun-Variables\": json.dumps(data),\n",
    "                \"t:text\": \"yes\",\n",
    "                \"template\": \"daily-menu\",\n",
    "            }\n",
    "            r = requests.post(SETTINGS.MAIL_URL, auth=auth, data=config)\n",
    "            \n",
    "        return True\n",
    "\n",
    "    def get_recipients(self):\n",
    "        with open(SETTINGS.SUBSCRIBERS, 'r') as f:\n",
    "            subscribers = json.load(f)\n",
    "        return subscribers\n",
    "\n",
    "def clean(string):\n",
    "    return \"\".join([char for char in string if char.isalnum() or char == \" \"])\n",
    "\n",
    "def your_restaurants(temp):\n",
    "\n",
    "    # Pastva\n",
    "    id = 1\n",
    "    name = \"Pastva\"\n",
    "    url = \"https://www.pastva-restaurant.cz/nase-menu/\"\n",
    "    selector = \"#ffe_widget-2 .eff-panel-body\"\n",
    "    temp.add_menu(id, name, url, selector)\n",
    "\n",
    "    # Sodexo\n",
    "    id = 2\n",
    "    name = \"Sodexo, Riverview\"\n",
    "    url = \"http://riverview.extranet.prod.dator3.cz/en/menu-for-the-week/\"\n",
    "    weekday = 4 - datetime.today().weekday()\n",
    "    weekday = weekday if weekday > 0 else 0\n",
    "    tag = \"#menu-{} .popisJidla\".format(str(weekday))\n",
    "    selector = tag\n",
    "    temp.add_menu(id, name, url, selector, n=-1)\n",
    "\n",
    "    # FIVE - Weekly\n",
    "    id = 3\n",
    "    name = \"Dave B, Five (Week)\"\n",
    "    url = \"https://www.daveb.cz/cs/denni-nabidka\"\n",
    "    selector = \".article .row div\"\n",
    "    temp.add_menu(id, name, url, selector, n=1)\n",
    "\n",
    "    # FIVE - Today\n",
    "    id = 3\n",
    "    name = \"Dave B, Five (Today)\"\n",
    "    url = \"https://www.daveb.cz/cs/denni-nabidka\"\n",
    "    selector = \".article .row div\"\n",
    "    weekday = 3 + datetime.today().weekday()\n",
    "    weekday = weekday if int(weekday) <= 7 else 7\n",
    "    temp.add_menu(id, name, url, selector, n=weekday)\n",
    "\n",
    "    # Potrefena Husa - Na Verandach\n",
    "    id = 4\n",
    "    name = \"Potrefena Husa - Na Verandach\"\n",
    "    url = \"https://www.phnaverandach.cz/\"\n",
    "    selector = \".listek-out .listek #table-1 .food-title\"\n",
    "    temp.add_menu(id, name, url, selector, n=-1)\n",
    "\n",
    "    # Lavande Restaurant - Weekly\n",
    "    id = 5\n",
    "    name = \"Lavande Restaurant - Week\"\n",
    "    url = \"https://restaurantlavande.cz/menu/#week-menu\"\n",
    "    selector = \".week-menu__header ~ .menus .menus__menu-content h3 ~ div .food__name\"\n",
    "    temp.add_menu(id, name, url, selector, n=range(0,3))\n",
    "\n",
    "    # Lavande Restaurant - Daily\n",
    "    id = 5\n",
    "    name = \"Lavande Restaurant - Daily\"\n",
    "    url = \"https://restaurantlavande.cz/menu/#week-menu\"\n",
    "    weekday = datetime.today().weekday()\n",
    "    weekday = weekday if weekday < 5 else 4\n",
    "    n = (( weekday + 1) * 4) - 1\n",
    "    selector = \".week-menu__header ~ .menus .menus__menu-content h3 ~ div .food__name\"\n",
    "    temp.add_menu(id, name, url, selector, n=range(n,n+4))\n",
    "\n",
    "if __name__ == \"__main__\":\n",
    "    x = lunchScraper()\n",
    "    your_restaurants(x)\n",
    "    result = x.send_messages()\n",
    "    print(\"[{}] Execution completed with {}.\".format(datetime.now(), result) )\n"
   ]
  },
  {
   "cell_type": "code",
   "execution_count": 234,
   "metadata": {
    "scrolled": true
   },
   "outputs": [
    {
     "data": {
      "text/plain": [
       "{'body': {'menus': [{'id': 0,\n",
       "    'menu': ['Pondělní polední menu:',\n",
       "     '- Zeleninová polévka GF',\n",
       "     '- Tofu palak paneer (špenátové kari) s rýží GF',\n",
       "     '- Sýrovo-čočkové koule v omáčce z pečených paprik, tagliatelle',\n",
       "     '- Zelený salát s chřestem, hráškem, kedlubnou, brokolicí a pečenými novými bramborami GF'],\n",
       "    'name': 'Pastva',\n",
       "    'url': 'https://www.pastva-restaurant.cz/nase-menu/'},\n",
       "   {'id': 1,\n",
       "    'menu': ['Broccoli soup',\n",
       "     'Baked pork meat with spinach, potato dumplings',\n",
       "     'Spaghetti with bolognese soya ragout',\n",
       "     'Beef burger, french fries',\n",
       "     'Mix grill, roasted vegetables',\n",
       "     'Mix grill, roasted vegetables'],\n",
       "    'name': 'Sodexo, Riverview',\n",
       "    'url': 'http://riverview.extranet.prod.dator3.cz/en/menu-for-the-week/'},\n",
       "   {'id': 2,\n",
       "    'menu': ['Specialita týdne',\n",
       "     'Burger z vepřového masa s čedarem, ledovým salátem a rajčaty, sladkokyselá majonéza, hranolky, zelný salát ( 1,3,7,10,11)189 CZK',\n",
       "     'Grilovaná vepřová krkovice/kuřecí prsa s pepřovou omáčkou, pečené grenaille  (7,10)(BEZ PŘIDANÉHO LEPKU)169 CZK',\n",
       "     'Caesar salát s ančovičkovým dresinkem, sýrem Gran Moravia a česnekovými krutóny (1,3,4,6,7,10)(VEGETARIAN)119 CZK'],\n",
       "    'name': 'Dave B, Five (Week)',\n",
       "    'url': 'https://www.daveb.cz/cs/denni-nabidka'},\n",
       "   {'id': 2,\n",
       "    'menu': ['Úterý',\n",
       "     'MENU 1 - Vepřové fajitas s pšeničnou tortillou a zakysanou smetanou  (1,7)135 CZK',\n",
       "     'MENU 2 - Trhané listové saláty s rajčaty a krůtím prsíčkem, rozpečená bageta (1)135 CZK',\n",
       "     'LIVE IT - Cizrnové ragú se zeleninou a jasmínovou rýží   (9)(BEZ PŘIDANÉHO LEPKU,VEGETARIAN)125 CZK'],\n",
       "    'name': 'Dave B, Five (Today)',\n",
       "    'url': 'https://www.daveb.cz/cs/denni-nabidka'},\n",
       "   {'id': 3,\n",
       "    'menu': ['ČOČKOVÁ POLÉVKA s opečeným párkem, zeleninou a rajčaty (1a,3,7)',\n",
       "     'ZAPEČENÉ ŠUNKOFLEKY s uzenou šunkou od kosti, vajíčkem  a sýrem, kyselá okurka (1a,3,7)',\n",
       "     'CAESAR SALÁT z křehkého ledového a římského salátu s kuřecím masem, krutony, parmazánem a bylinkovou ciabattou (1a,3,7)',\n",
       "     'KRŮTÍ ŘÍZEK NARUBY s bramborovou kaší s česnekem a bylinkami se salátkem z červené řepy (1a,3,7)',\n",
       "     'PIKANTNÍ KARI z hovězí roštěnky s česnekem, pórkem, zázvorem, koriandrem a jasmínovou rýží (6,11)',\n",
       "     'PEČENÁ VEPŘOVÁ KRKOVIČKA po selsku se špenátem a bramborovým knedlíkem (1a,3,7,10)'],\n",
       "    'name': 'Potrefena Husa - Na Verandach',\n",
       "    'url': 'https://www.phnaverandach.cz/'},\n",
       "   {'id': 4,\n",
       "    'menu': ['Palačinka s pomerančovým likérem a karamelem',\n",
       "     'Domácí rybízová limonáda',\n",
       "     'Grilovaný rib eye steak s bylinkovým máslem restované mini brambory s červenou cibulí pepřová omáčka'],\n",
       "    'name': 'Lavande Restaurant - Week',\n",
       "    'url': 'https://restaurantlavande.cz/menu/#week-menu'},\n",
       "   {'id': 4,\n",
       "    'menu': ['Žampionový krém',\n",
       "     'Kuřecí prso plněné sušenými rajčaty parmazánová omáčka bazalkový couscous',\n",
       "     'Dušená vepřová plec na bílém víně a rozmarýnu jasmínová rýže',\n",
       "     'Salát z římských listů a mladého špenátu s grilovaným sýrem halloumi dresink s pečených rajčat'],\n",
       "    'name': 'Lavande Restaurant - Daily',\n",
       "    'url': 'https://restaurantlavande.cz/menu/#week-menu'}]},\n",
       " 'title': 'Daily Menu for Tuesday, 11-Jun'}"
      ]
     },
     "execution_count": 234,
     "metadata": {},
     "output_type": "execute_result"
    }
   ],
   "source": [
    "x.data"
   ]
  },
  {
   "cell_type": "code",
   "execution_count": 247,
   "metadata": {},
   "outputs": [
    {
     "data": {
      "text/plain": [
       "True"
      ]
     },
     "execution_count": 247,
     "metadata": {},
     "output_type": "execute_result"
    }
   ],
   "source": [
    "# x.get_recipients()\n",
    "x.send_messages()"
   ]
  },
  {
   "cell_type": "code",
   "execution_count": 230,
   "metadata": {},
   "outputs": [
    {
     "data": {
      "text/plain": [
       "'200'"
      ]
     },
     "execution_count": 230,
     "metadata": {},
     "output_type": "execute_result"
    }
   ],
   "source": [
    "str(r.status_code)"
   ]
  },
  {
   "cell_type": "code",
   "execution_count": 175,
   "metadata": {},
   "outputs": [
    {
     "name": "stdout",
     "output_type": "stream",
     "text": [
      "{'menu': ['Francouzská cibulačka GF DF se sýrovými krutony',\n",
      "          'Kachní soté s restovaným pak choi karotkou a sezamem rýžové nudle',\n",
      "          'Kuřecí karbanátek s uzeným sýrem šťouchané brambory s pórkem a '\n",
      "          'smetanou',\n",
      "          'Cizrnovorajčatové karí s čerstvým kozím sýrem pečené mini brambory'],\n",
      " 'name': 'Lavande Restaurant - Week',\n",
      " 'url': 'https://restaurantlavande.cz/menu/#week-menu'}\n"
     ]
    }
   ],
   "source": [
    "headers = {'User-Agent': 'Mozilla/5.0 (Macintosh; Intel Mac OS X 10_10_1) AppleWebKit/537.36 (KHTML, like Gecko) Chrome/39.0.2171.95 Safari/537.36'}\n",
    "import re\n",
    "\n",
    "def add_menu(name, url, selector, n=0):\n",
    "    try:\n",
    "        with request.urlopen(url) as response:\n",
    "            html = response.read()\n",
    "            soup = bs(html, 'lxml')\n",
    "            selected = soup.select(selector)\n",
    "            if n == -1:\n",
    "                text = \"\\n\".join([item.get_text() for item in selected])\n",
    "            elif isinstance(n, range):\n",
    "                text = []\n",
    "                for i in n:\n",
    "                    text.append( clean(selected[i].get_text()) )\n",
    "                text = \"\\n\".join(text)\n",
    "            else:\n",
    "                text = selected[n].get_text()\n",
    "            # Clean the text up.\n",
    "            text = [t for t in text.split(\"\\n\") if len(t) > 0]\n",
    "        return {'name':name,'url':url,'menu':text}\n",
    "    except Exception as e:\n",
    "        print(\"Couldn't find menu for {}. Error: {}\".format(name, e))\n",
    "        \n",
    "\n",
    "# Lavande Restaurant - Weekly\n",
    "name = \"Lavande Restaurant - Week\"\n",
    "url = \"https://restaurantlavande.cz/menu/#week-menu\"\n",
    "selector = \".week-menu__header ~ .menus .menus__menu-content h3 ~ div .food__name\"\n",
    "z = add_menu(name, url, selector, n=range(0,3))\n",
    "\n",
    "# Lavande Restaurant - Daily\n",
    "name = \"Lavande Restaurant - Daily\"\n",
    "url = \"https://restaurantlavande.cz/menu/#week-menu\"\n",
    "weekday = datetime.today().weekday()\n",
    "weekday = weekday if weekday < 5 else 4\n",
    "n = (( weekday + 1) * 4) - 1\n",
    "selector = \".week-menu__header ~ .menus .menus__menu-content h3 ~ div .food__name\"\n",
    "\n",
    "z = add_menu(name, url, selector, n=range(n,n+4))\n",
    "\n",
    "pp(z)"
   ]
  },
  {
   "cell_type": "code",
   "execution_count": 107,
   "metadata": {
    "collapsed": true,
    "scrolled": false
   },
   "outputs": [],
   "source": [
    "r = request.urlopen(url)\n",
    "soup = bs(r.read(), 'lxml')"
   ]
  },
  {
   "cell_type": "code",
   "execution_count": 155,
   "metadata": {},
   "outputs": [
    {
     "name": "stdout",
     "output_type": "stream",
     "text": [
      "<div class=\"food__name\">\n",
      "\t\t\t\t\t\t\t\t\t\t\tPalačinka s pomerančovým likérem a karamelem\n",
      "\t\t\t\t\t\t\t\t\t\t</div>\n"
     ]
    }
   ],
   "source": [
    "selector = \".week-menu__header ~ .menus .menus__menu-content h3:nth-of-type(1) ~ div .food__name\"\n",
    "z = soup.select(selector)[0]\n",
    "print(z)\n",
    "\n",
    "def clean(string):\n",
    "    return \"\".join([char for char in string if char.isalnum() or char == \" \"])"
   ]
  },
  {
   "cell_type": "code",
   "execution_count": 125,
   "metadata": {},
   "outputs": [
    {
     "data": {
      "text/plain": [
       "'Domácírybízoválimonáda'"
      ]
     },
     "execution_count": 125,
     "metadata": {},
     "output_type": "execute_result"
    }
   ],
   "source": [
    "clean(z)"
   ]
  },
  {
   "cell_type": "code",
   "execution_count": 136,
   "metadata": {},
   "outputs": [
    {
     "data": {
      "text/plain": [
       "True"
      ]
     },
     "execution_count": 136,
     "metadata": {},
     "output_type": "execute_result"
    }
   ],
   "source": [
    "x = range(2,5)\n",
    "isinstance(x, range)"
   ]
  },
  {
   "cell_type": "code",
   "execution_count": null,
   "metadata": {
    "collapsed": true
   },
   "outputs": [],
   "source": [
    "M = 4\n",
    "T = 8\n",
    "W = 12\n",
    "T = 16\n",
    "F = 20"
   ]
  }
 ],
 "metadata": {
  "kernelspec": {
   "display_name": "ipython-venv",
   "language": "python",
   "name": "ipython-venv"
  },
  "language_info": {
   "codemirror_mode": {
    "name": "ipython",
    "version": 3
   },
   "file_extension": ".py",
   "mimetype": "text/x-python",
   "name": "python",
   "nbconvert_exporter": "python",
   "pygments_lexer": "ipython3",
   "version": "3.5.2"
  }
 },
 "nbformat": 4,
 "nbformat_minor": 2
}
