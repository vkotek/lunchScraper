{
 "cells": [
  {
   "cell_type": "code",
   "execution_count": 186,
   "metadata": {},
   "outputs": [
    {
     "data": {
      "text/plain": [
       "['kotek.vojtech@gmail.com']"
      ]
     },
     "execution_count": 186,
     "metadata": {},
     "output_type": "execute_result"
    }
   ],
   "source": [
    "# Lunch Menu Scraper\n",
    "\n",
    "from urllib import request\n",
    "from bs4 import BeautifulSoup as bs\n",
    "from datetime import datetime\n",
    "import requests\n",
    "import json\n",
    "\n",
    "import settings as SETTINGS\n",
    "\n",
    "class lunchScraper(object):\n",
    "    \n",
    "    def __init__(self):\n",
    "        self.data = {\n",
    "            \"title\": \"Daily Menu for {}\".format(datetime.now().strftime(\"%A, %d-%b\")),\n",
    "            \"body\": {\n",
    "                \"menus\": []\n",
    "            }\n",
    "        }\n",
    "\n",
    "    def add_menu(self, name, url, selector, n=0):\n",
    "        try:\n",
    "            with request.urlopen(url) as response:\n",
    "                html = response.read()\n",
    "                soup = bs(html, 'lxml')\n",
    "                selected = soup.select(selector)\n",
    "                if n == -1:\n",
    "                    text = \"\\n\".join([item.get_text() for item in selected])\n",
    "                elif isinstance(n, range):\n",
    "                    text = []\n",
    "                    for i in n:\n",
    "                        text.append( clean(selected[i].get_text()) )\n",
    "                    text = \"\\n\".join(text)\n",
    "                else:\n",
    "                    text = selected[n].get_text()\n",
    "                text = [t for t in text.split(\"\\n\") if len(t) > 0]\n",
    "            self.data['body']['menus'].append({'name':name,'url':url,'menu':text})\n",
    "        except Exception as e:\n",
    "            print(\"Couldn't find menu for {}. Error: {}\".format(name, e))\n",
    "\n",
    "    def send_message(self):\n",
    "        auth = (\"api\", SETTINGS.MAIL_API_KEY)\n",
    "        data = {\n",
    "            \"from\": SETTINGS.FROM,\n",
    "            \"to\": SETTINGS.TO,\n",
    "            \"subject\": self.data['title'],\n",
    "            \"h:X-Mailgun-Variables\": json.dumps(self.data),\n",
    "            \"t:text\": \"yes\",\n",
    "            \"template\": \"daily-menu\",\n",
    "        }\n",
    "        r = requests.post(SETTINGS.MAIL_URL, auth=auth, data=data)\n",
    "        return r\n",
    "    \n",
    "    def get_recipients(self):\n",
    "        with open(SETTINGS.SUBSCRIBERS, 'r') as f:\n",
    "            subscribers = json.load(f)\n",
    "            recipients = []\n",
    "            for subscriber in subscribers:\n",
    "                if subscriber['verified']:\n",
    "                    recipients.append(subscriber['email'])\n",
    "        return recipients\n",
    "    \n",
    "def your_restaurants(temp):\n",
    "\n",
    "#     # Pastva\n",
    "#     name = \"Pastva\"\n",
    "#     url = \"https://www.pastva-restaurant.cz/nase-menu/\"\n",
    "#     selector = \"#ffe_widget-2 .eff-panel-body\"\n",
    "#     temp.add_menu(name, url, selector)\n",
    "\n",
    "#     # Sodexo\n",
    "#     name = \"Sodexo, Riverview\"\n",
    "#     url = \"http://riverview.extranet.prod.dator3.cz/en/menu-for-the-week/\"\n",
    "#     weekday = 4 - datetime.today().weekday()\n",
    "#     weekday = weekday if weekday > 0 else 0\n",
    "#     tag = \"#menu-{} .popisJidla\".format(str(weekday))\n",
    "#     selector = tag\n",
    "#     temp.add_menu(name, url, selector, n=-1)\n",
    "\n",
    "#     # FIVE - Weekly\n",
    "#     name = \"Dave B, Five (Week)\"\n",
    "#     url = \"https://www.daveb.cz/cs/denni-nabidka\"\n",
    "#     selector = \".article .row div\"\n",
    "#     temp.add_menu(name, url, selector, n=1)\n",
    "\n",
    "#     # FIVE - Today\n",
    "#     name = \"Dave B, Five (Today)\"\n",
    "#     url = \"https://www.daveb.cz/cs/denni-nabidka\"\n",
    "#     selector = \".article .row div\"\n",
    "#     weekday = 3 + datetime.today().weekday()\n",
    "#     weekday = weekday if int(weekday) <= 7 else 3\n",
    "#     temp.add_menu(name, url, selector, n=weekday)\n",
    "    \n",
    "#     # Potrefena Husa - Na Verandach\n",
    "#     name = \"Potrefena Husa - Na Verandach\"\n",
    "#     url = \"https://www.phnaverandach.cz/\"\n",
    "#     selector = \".listek-out .listek #table-1 .food-title\"\n",
    "#     temp.add_menu(name, url, selector, n=-1)\n",
    "\n",
    "    # U Kroka\n",
    "#     name = \"U Kroka\"\n",
    "#     url = \"https://www.ukroka.cz/menus-1\"\n",
    "#     selector = \".menuApp\"\n",
    "#     temp.add_menu(name, url, selector)\n",
    "\n",
    "    # Lavande Restaurant - Weekly\n",
    "    name = \"Lavande Restaurant - Week\"\n",
    "    url = \"https://restaurantlavande.cz/menu/#week-menu\"\n",
    "    selector = \".week-menu__header ~ .menus .menus__menu-content h3 ~ div .food__name\"\n",
    "    temp.add_menu(name, url, selector, n=range(0,3))\n",
    "\n",
    "    # Lavande Restaurant - Daily\n",
    "    name = \"Lavande Restaurant - Week\"\n",
    "    url = \"https://restaurantlavande.cz/menu/#week-menu\"\n",
    "    weekday = datetime.today().weekday()\n",
    "    weekday = weekday if weekday < 5 else 4\n",
    "    n = (( weekday + 1) * 4) - 1\n",
    "    selector = \".week-menu__header ~ .menus .menus__menu-content h3 ~ div .food__name\"\n",
    "    temp.add_menu(name, url, selector, n=range(n,n+4))\n",
    "\n",
    "# if __name__ == \"__main__\":\n",
    "#     x = lunchScraper()\n",
    "#     your_restaurants(x)\n",
    "#     x.send_message()\n",
    "\n",
    "x = lunchScraper()\n",
    "# your_restaurants(x)\n",
    "x.get_recipients()\n",
    "# x.send_message()"
   ]
  },
  {
   "cell_type": "code",
   "execution_count": 185,
   "metadata": {},
   "outputs": [
    {
     "data": {
      "text/plain": [
       "{'body': {'menus': [{'menu': ['Palačinka s pomerančovým likérem a karamelem',\n",
       "     'Domácí rybízová limonáda',\n",
       "     'Grilovaný rib eye steak s bylinkovým máslem restované mini brambory s červenou cibulí pepřová omáčka'],\n",
       "    'name': 'Lavande Restaurant - Week',\n",
       "    'url': 'https://restaurantlavande.cz/menu/#week-menu'},\n",
       "   {'menu': ['Francouzská cibulačka GF DF se sýrovými krutony',\n",
       "     'Kachní soté s restovaným pak choi karotkou a sezamem rýžové nudle',\n",
       "     'Kuřecí karbanátek s uzeným sýrem šťouchané brambory s pórkem a smetanou',\n",
       "     'Cizrnovorajčatové karí s čerstvým kozím sýrem pečené mini brambory'],\n",
       "    'name': 'Lavande Restaurant - Week',\n",
       "    'url': 'https://restaurantlavande.cz/menu/#week-menu'}]},\n",
       " 'title': 'Daily Menu for Monday, 10-Jun'}"
      ]
     },
     "execution_count": 185,
     "metadata": {},
     "output_type": "execute_result"
    }
   ],
   "source": [
    "x.data"
   ]
  },
  {
   "cell_type": "code",
   "execution_count": 175,
   "metadata": {},
   "outputs": [
    {
     "name": "stdout",
     "output_type": "stream",
     "text": [
      "{'menu': ['Francouzská cibulačka GF DF se sýrovými krutony',\n",
      "          'Kachní soté s restovaným pak choi karotkou a sezamem rýžové nudle',\n",
      "          'Kuřecí karbanátek s uzeným sýrem šťouchané brambory s pórkem a '\n",
      "          'smetanou',\n",
      "          'Cizrnovorajčatové karí s čerstvým kozím sýrem pečené mini brambory'],\n",
      " 'name': 'Lavande Restaurant - Week',\n",
      " 'url': 'https://restaurantlavande.cz/menu/#week-menu'}\n"
     ]
    }
   ],
   "source": [
    "headers = {'User-Agent': 'Mozilla/5.0 (Macintosh; Intel Mac OS X 10_10_1) AppleWebKit/537.36 (KHTML, like Gecko) Chrome/39.0.2171.95 Safari/537.36'}\n",
    "import re\n",
    "\n",
    "def add_menu(name, url, selector, n=0):\n",
    "    try:\n",
    "        with request.urlopen(url) as response:\n",
    "            html = response.read()\n",
    "            soup = bs(html, 'lxml')\n",
    "            selected = soup.select(selector)\n",
    "            if n == -1:\n",
    "                text = \"\\n\".join([item.get_text() for item in selected])\n",
    "            elif isinstance(n, range):\n",
    "                text = []\n",
    "                for i in n:\n",
    "                    text.append( clean(selected[i].get_text()) )\n",
    "                text = \"\\n\".join(text)\n",
    "            else:\n",
    "                text = selected[n].get_text()\n",
    "            # Clean the text up.\n",
    "            text = [t for t in text.split(\"\\n\") if len(t) > 0]\n",
    "        return {'name':name,'url':url,'menu':text}\n",
    "    except Exception as e:\n",
    "        print(\"Couldn't find menu for {}. Error: {}\".format(name, e))\n",
    "        \n",
    "\n",
    "# Lavande Restaurant - Weekly\n",
    "name = \"Lavande Restaurant - Week\"\n",
    "url = \"https://restaurantlavande.cz/menu/#week-menu\"\n",
    "selector = \".week-menu__header ~ .menus .menus__menu-content h3 ~ div .food__name\"\n",
    "z = add_menu(name, url, selector, n=range(0,3))\n",
    "\n",
    "# Lavande Restaurant - Daily\n",
    "name = \"Lavande Restaurant - Daily\"\n",
    "url = \"https://restaurantlavande.cz/menu/#week-menu\"\n",
    "weekday = datetime.today().weekday()\n",
    "weekday = weekday if weekday < 5 else 4\n",
    "n = (( weekday + 1) * 4) - 1\n",
    "selector = \".week-menu__header ~ .menus .menus__menu-content h3 ~ div .food__name\"\n",
    "\n",
    "z = add_menu(name, url, selector, n=range(n,n+4))\n",
    "\n",
    "pp(z)"
   ]
  },
  {
   "cell_type": "code",
   "execution_count": 107,
   "metadata": {
    "scrolled": false
   },
   "outputs": [],
   "source": [
    "r = request.urlopen(url)\n",
    "soup = bs(r.read(), 'lxml')"
   ]
  },
  {
   "cell_type": "code",
   "execution_count": 155,
   "metadata": {},
   "outputs": [
    {
     "name": "stdout",
     "output_type": "stream",
     "text": [
      "<div class=\"food__name\">\n",
      "\t\t\t\t\t\t\t\t\t\t\tPalačinka s pomerančovým likérem a karamelem\n",
      "\t\t\t\t\t\t\t\t\t\t</div>\n"
     ]
    }
   ],
   "source": [
    "selector = \".week-menu__header ~ .menus .menus__menu-content h3:nth-of-type(1) ~ div .food__name\"\n",
    "z = soup.select(selector)[0]\n",
    "print(z)\n",
    "\n",
    "def clean(string):\n",
    "    return \"\".join([char for char in string if char.isalnum() or char == \" \"])"
   ]
  },
  {
   "cell_type": "code",
   "execution_count": 125,
   "metadata": {},
   "outputs": [
    {
     "data": {
      "text/plain": [
       "'Domácírybízoválimonáda'"
      ]
     },
     "execution_count": 125,
     "metadata": {},
     "output_type": "execute_result"
    }
   ],
   "source": [
    "clean(z)"
   ]
  },
  {
   "cell_type": "code",
   "execution_count": 136,
   "metadata": {},
   "outputs": [
    {
     "data": {
      "text/plain": [
       "True"
      ]
     },
     "execution_count": 136,
     "metadata": {},
     "output_type": "execute_result"
    }
   ],
   "source": [
    "x = range(2,5)\n",
    "isinstance(x, range)"
   ]
  },
  {
   "cell_type": "code",
   "execution_count": null,
   "metadata": {
    "collapsed": true
   },
   "outputs": [],
   "source": [
    "M = 4\n",
    "T = 8\n",
    "W = 12\n",
    "T = 16\n",
    "F = 20"
   ]
  }
 ],
 "metadata": {
  "kernelspec": {
   "display_name": "ipython-venv",
   "language": "python",
   "name": "ipython-venv"
  },
  "language_info": {
   "codemirror_mode": {
    "name": "ipython",
    "version": 3
   },
   "file_extension": ".py",
   "mimetype": "text/x-python",
   "name": "python",
   "nbconvert_exporter": "python",
   "pygments_lexer": "ipython3",
   "version": "3.5.2"
  }
 },
 "nbformat": 4,
 "nbformat_minor": 2
}
